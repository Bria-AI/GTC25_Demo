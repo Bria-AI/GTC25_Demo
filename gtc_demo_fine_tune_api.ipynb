{
 "cells": [
  {
   "cell_type": "code",
   "execution_count": null,
   "metadata": {},
   "outputs": [],
   "source": [
    "############ Set HF token instead of bria - how?\n",
    "import os\n",
    "headers = {\n",
    "  \"Content-Type\": \"application/json\",\n",
    "  \"api_token\": os.getenv(\"BRIA_API_TOKEN\")  # Ensure BRIA_API_TOKEN is set in your environment variables\" \n",
    "}"
   ]
  },
  {
   "cell_type": "markdown",
   "metadata": {},
   "source": [
    "# Tailored-Generation: Fine-Tuning Bria's Text-to-Image Model"
   ]
  },
  {
   "cell_type": "markdown",
   "metadata": {},
   "source": [
    "\n",
    "BRIA-4B-Adapt is our new groundbreaking 4 billion parameters text-to-image model, explicitly designed to provide exceptional fine-tuning capabilities for commercial use. \n",
    "\n",
    "The model excels in aligning to the tuned style while preserving an remarkably high prompt alignment. \n",
    "\n",
    "This model combines technological innovation with ethical responsibility and legal security, setting a new standard in the AI industry. \n",
    "\n",
    "Bria AI licenses the foundation model with full legal liability coverage. Our dataset does not contain copyrighted materials, such as fictional characters, logos, trademarks, public figures, harmful content, or privacy-infringing content.\n",
    "\n",
    "Bria's API suggests an automatic process for fine-tuning and using tailored-gen models:\n",
    "https://docs.bria.ai/tailored-generation\n",
    "\n",
    "Training can also be done on-prem as presented here: https://huggingface.co/briaai/BRIA-4B-Adapt\n"
   ]
  },
  {
   "cell_type": "code",
   "execution_count": null,
   "metadata": {},
   "outputs": [],
   "source": [
    "images_folder = \"\"\n",
    "# show images"
   ]
  },
  {
   "cell_type": "code",
   "execution_count": null,
   "metadata": {},
   "outputs": [],
   "source": [
    "project_name = \"bria_elephant\"\n",
    "ip_type = \"shared\"\n",
    "ip_name = \"bria_elephant_ip\"\n",
    "ip_medium = \"\""
   ]
  },
  {
   "cell_type": "code",
   "execution_count": null,
   "metadata": {},
   "outputs": [],
   "source": [
    "# create project\n",
    "# create dataset\n",
    "# upload images\n",
    "# dataset status complete\n",
    "# create model\n",
    "# start training"
   ]
  },
  {
   "cell_type": "markdown",
   "metadata": {},
   "source": [
    "- Bria uses Bedrock\n",
    "- Bria uses Sagemaker for training\n",
    "- Maybe show prefix generation on style images"
   ]
  },
  {
   "cell_type": "code",
   "execution_count": null,
   "metadata": {},
   "outputs": [],
   "source": [
    "# data-sync?????\n",
    "# show inference"
   ]
  }
 ],
 "metadata": {
  "language_info": {
   "name": "python"
  }
 },
 "nbformat": 4,
 "nbformat_minor": 2
}
